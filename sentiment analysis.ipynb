{
 "cells": [
  {
   "cell_type": "code",
   "execution_count": 15,
   "metadata": {},
   "outputs": [
    {
     "name": "stdout",
     "output_type": "stream",
     "text": [
      "Hii #ShukraniKochokocho ata sijawahi shinda 5 bob, what is the criteria of picking these winners? I have never met… https://t.co/L38LLqizwW\n",
      "Sentiment(polarity=0.0, subjectivity=0.0)\n",
      "RT @RichFrontiers: .@CNN’s @richardquest feel the dialling higher of tax rates in what is the most dynamic part of our economy is actually…\n",
      "Sentiment(polarity=0.25, subjectivity=0.3888888888888889)\n",
      "@sylmulinge @SafaricomPLC Hi hope you are doing well, it seems like you can be make great impact on issues with mar… https://t.co/8Tkcqph0qa\n",
      "Sentiment(polarity=0.8, subjectivity=0.75)\n",
      "RT @NickNorbrook: As @MorrisKiruga asks whether the next CEO of Safaricom should be Kenyan, here is what @bobcollymore said about the quali…\n",
      "Sentiment(polarity=0.0, subjectivity=0.0)\n",
      "As @MorrisKiruga asks whether the next CEO of Safaricom should be Kenyan, here is what @bobcollymore said about the… https://t.co/TXgfHE9JSp\n",
      "Sentiment(polarity=0.0, subjectivity=0.0)\n",
      "The Truth About the 'Single Source of Truth About Kenyans': The National Digital Registry System, Collateral Myster… https://t.co/3B8OImRrEc\n",
      "Sentiment(polarity=-0.03571428571428571, subjectivity=0.10714285714285714)\n",
      "@bobcollymore I wish to be given a Job by safaricom, am a CPA holder my vision is to build a technical instute in m… https://t.co/lS2xRs4BGJ\n",
      "Sentiment(polarity=0.0, subjectivity=0.1)\n",
      "RT @SafaricomPLC: .@sylmulinge As you can see, at Safaricom we always have something for our customers and are committed to always providin…\n",
      "Sentiment(polarity=0.0, subjectivity=0.0)\n",
      "Asap @Safaricom_Care\n",
      "Sentiment(polarity=0.0, subjectivity=0.0)\n",
      "How to get Double Safaricom Credit with Tunukiwa “Kredo Dabo Dabo” https://t.co/mHqqxqIvpj https://t.co/NiUwcMSwAp\n",
      "Sentiment(polarity=0.0, subjectivity=0.0)\n",
      "How to get Double Safaricom Credit with Tunukiwa “Kredo Dabo Dabo” https://t.co/WwUq5GMdCI https://t.co/VtSo2jtVag\n",
      "Sentiment(polarity=0.0, subjectivity=0.0)\n"
     ]
    }
   ],
   "source": [
    "import tweepy\n",
    "from textblob import TextBlob, Word, Blobber\n",
    "\n",
    "''' authenticate'''\n",
    "\n",
    "consumer_key = '*****'\n",
    "consumer_secret = '****",
    "\n",
    "access_token = '******'\n",
    "access_token_secret = '*****'\n",
    "\n",
    "auth = tweepy.OAuthHandler(consumer_key, consumer_secret)\n",
    "auth.set_access_token(access_token,access_token_secret)\n",
    "\n",
    "api=tweepy.API(auth)\n",
    "\n",
    "'''retrieve tweets'''\n",
    "\n",
    "public_tweets = api.search(\"safaricom\")\n",
    "\n",
    "''' perform sentiment nalysis on tweets'''\n",
    "\n",
    "for tweet in public_tweets:\n",
    "\tprint(tweet.text)\n",
    "\tanalysis = TextBlob(tweet.text)\n",
    "\tprint(analysis.sentiment)\n",
    "    \n",
    "\n",
    "    "
   ]
  },
  {
   "cell_type": "code",
   "execution_count": null,
   "metadata": {},
   "outputs": [],
   "source": [
    " "
   ]
  }
 ],
 "metadata": {
  "kernelspec": {
   "display_name": "Python 3",
   "language": "python",
   "name": "python3"
  },
  "language_info": {
   "codemirror_mode": {
    "name": "ipython",
    "version": 3
   },
   "file_extension": ".py",
   "mimetype": "text/x-python",
   "name": "python",
   "nbconvert_exporter": "python",
   "pygments_lexer": "ipython3",
   "version": "3.6.7"
  }
 },
 "nbformat": 4,
 "nbformat_minor": 2
}
